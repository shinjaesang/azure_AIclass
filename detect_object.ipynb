{
 "cells": [
  {
   "cell_type": "code",
   "execution_count": null,
   "metadata": {},
   "outputs": [],
   "source": [
    "\"\"\"\n",
    "{\n",
    "    \"customModelResult\": {\n",
    "        \"objectsResult\": {\n",
    "            \"values\": [\n",
    "                {\n",
    "                    \"id\": \"1\",\n",
    "                    \"boundingBox\": {\n",
    "                        \"x\": 99,\n",
    "                        \"y\": 215,\n",
    "                        \"w\": 663,\n",
    "                        \"h\": 105\n",
    "                    },\n",
    "                    \"tags\": [\n",
    "                        {\n",
    "                            \"name\": \"fork\",\n",
    "                            \"confidence\": 0.916015625\n",
    "                        }\n",
    "                    ]\n",
    "                },\n",
    "                {\n",
    "                    \"id\": \"2\",\n",
    "                    \"boundingBox\": {\n",
    "                        \"x\": 98,\n",
    "                        \"y\": 166,\n",
    "                        \"w\": 659,\n",
    "                        \"h\": 139\n",
    "                    },\n",
    "                    \"tags\": [\n",
    "                        {\n",
    "                            \"name\": \"fork\",\n",
    "                            \"confidence\": 0.12939453125\n",
    "                        }\n",
    "                    ]\n",
    "                }\n",
    "            ]\n",
    "        }\n",
    "    },\n",
    "    \"modelVersion\": \"2023-02-01-preview\",\n",
    "    \"metadata\": {\n",
    "        \"width\": 816,\n",
    "        \"height\": 612\n",
    "    }\n",
    "}\n",
    "\"\"\"\n",
    " "
   ]
  },
  {
   "cell_type": "code",
   "execution_count": 8,
   "metadata": {},
   "outputs": [
    {
     "name": "stdout",
     "output_type": "stream",
     "text": [
      "Running on local URL:  http://127.0.0.1:7861\n",
      "\n",
      "To create a public link, set `share=True` in `launch()`.\n"
     ]
    },
    {
     "data": {
      "text/html": [
       "<div><iframe src=\"http://127.0.0.1:7861/\" width=\"100%\" height=\"500\" allow=\"autoplay; camera; microphone; clipboard-read; clipboard-write;\" frameborder=\"0\" allowfullscreen></iframe></div>"
      ],
      "text/plain": [
       "<IPython.core.display.HTML object>"
      ]
     },
     "metadata": {},
     "output_type": "display_data"
    },
    {
     "data": {
      "text/plain": []
     },
     "execution_count": 8,
     "metadata": {},
     "output_type": "execute_result"
    },
    {
     "name": "stdout",
     "output_type": "stream",
     "text": [
      "<Response [200]>\n",
      "b'{\"customModelResult\":{\"objectsResult\":{\"values\":[{\"id\":\"1\",\"boundingBox\":{\"x\":257,\"y\":146,\"w\":419,\"h\":356},\"tags\":[{\"name\":\"fork\",\"confidence\":0.95263671875}]}]}},\"modelVersion\":\"2023-02-01-preview\",\"metadata\":{\"width\":816,\"height\":612}}'\n",
      "[{'id': '1', 'boundingBox': {'x': 257, 'y': 146, 'w': 419, 'h': 356}, 'tags': [{'name': 'fork', 'confidence': 0.95263671875}]}]\n"
     ]
    }
   ],
   "source": [
    "import requests\n",
    "import gradio as gr\n",
    "\n",
    "def request_object_detection(image_path):\n",
    "    endpoint = \"https://fimtrus-computer-vision.cognitiveservices.azure.com/computervision/imageanalysis:analyze?model-name=detectionfork&language=en&gender-neutral-caption=false&api-version=2023-04-01-preview\"\n",
    "    api_key = \"4e650db659a84880ad9bff6b57af6cf2\"\n",
    "    \n",
    "    headers = {\n",
    "        \"Content-Type\": \"application/octet-stream\",\n",
    "        \"Ocp-Apim-Subscription-Key\": api_key\n",
    "    }\n",
    "\n",
    "    with open(image_path, \"rb\") as image:\n",
    "        image_data = image.read()\n",
    "\n",
    "\n",
    "    response = requests.post(\n",
    "        endpoint,\n",
    "        headers=headers,\n",
    "        data=image_data\n",
    "    )\n",
    "\n",
    "    print(response)\n",
    "    print(response.content)\n",
    "\n",
    "    \n",
    "    if response.status_code == 200:\n",
    "        response_json = response.json()\n",
    "        object_list = response_json[\"customModelResult\"][\"objectsResult\"][\"values\"]\n",
    "\n",
    "        return object_list\n",
    "    \n",
    "    else:\n",
    "        return None\n",
    "\n",
    "    \n",
    "\n",
    "def draw(image_path, object_list):\n",
    "\n",
    "    for c in object_list:\n",
    "        bounding_box = c['boundingBox']\n",
    "        if len(c['tags']) > 0:\n",
    "            name = c['tags'][0]['name']\n",
    "            confidence = c['tags'][0]['confidence']\n",
    "        else:\n",
    "            name = ''\n",
    "            confidence = '' \n",
    "\n",
    "        x = bounding_box['x']\n",
    "        y = bounding_box['y']\n",
    "        w = bounding_box['w']\n",
    "        h = bounding_box['h']\n",
    "\n",
    "        print(\"Detect Object\" , name, confidence, x, y, w, h)\n",
    "\n",
    "    return None\n",
    "\n",
    "def change_input_iamge(input_image):\n",
    "    object_list = request_object_detection(input_image)\n",
    "    draw(input_image, object_list)\n",
    "    print(object_list)\n",
    "    return input_image\n",
    "\n",
    "\n",
    "with gr.Blocks() as demo:\n",
    "    input_image = gr.Image(label=\"이미지 선택\", type=\"filepath\")\n",
    "    result_image = gr.Image(label=\"결과 이미지\")\n",
    "\n",
    "    input_image.change(fn=change_input_iamge, inputs=[input_image], outputs=[result_image])\n",
    "\n",
    "demo.launch()\n",
    "\n",
    "\n",
    "# file_path = \"./fork.jpg\"\n",
    "\n",
    "# request_object_detection(file_path)\n",
    "\n"
   ]
  },
  {
   "cell_type": "code",
   "execution_count": 11,
   "metadata": {},
   "outputs": [],
   "source": [
    "import PIL"
   ]
  },
  {
   "cell_type": "code",
   "execution_count": 16,
   "metadata": {},
   "outputs": [
    {
     "name": "stdout",
     "output_type": "stream",
     "text": [
      "Running on local URL:  http://127.0.0.1:7868\n",
      "\n",
      "To create a public link, set `share=True` in `launch()`.\n"
     ]
    },
    {
     "data": {
      "text/html": [
       "<div><iframe src=\"http://127.0.0.1:7868/\" width=\"100%\" height=\"500\" allow=\"autoplay; camera; microphone; clipboard-read; clipboard-write;\" frameborder=\"0\" allowfullscreen></iframe></div>"
      ],
      "text/plain": [
       "<IPython.core.display.HTML object>"
      ]
     },
     "metadata": {},
     "output_type": "display_data"
    },
    {
     "data": {
      "text/plain": []
     },
     "execution_count": 16,
     "metadata": {},
     "output_type": "execute_result"
    },
    {
     "name": "stdout",
     "output_type": "stream",
     "text": [
      "[{'id': '1', 'boundingBox': {'x': 257, 'y': 146, 'w': 419, 'h': 356}, 'tags': [{'name': 'fork', 'confidence': 0.95263671875}]}]\n",
      "[{'id': '1', 'boundingBox': {'x': 561, 'y': 12, 'w': 225, 'h': 676}, 'tags': [{'name': 'fork', 'confidence': 0.79931640625}]}, {'id': '2', 'boundingBox': {'x': 457, 'y': 99, 'w': 155, 'h': 586}, 'tags': [{'name': 'fork', 'confidence': 0.65283203125}]}, {'id': '3', 'boundingBox': {'x': 35, 'y': 10, 'w': 756, 'h': 682}, 'tags': [{'name': 'fork', 'confidence': 0.59619140625}]}, {'id': '4', 'boundingBox': {'x': 286, 'y': 192, 'w': 83, 'h': 500}, 'tags': [{'name': 'fork', 'confidence': 0.51611328125}]}, {'id': '5', 'boundingBox': {'x': 197, 'y': 240, 'w': 82, 'h': 446}, 'tags': [{'name': 'fork', 'confidence': 0.50244140625}]}, {'id': '6', 'boundingBox': {'x': 42, 'y': 249, 'w': 79, 'h': 433}, 'tags': [{'name': 'fork', 'confidence': 0.43310546875}]}, {'id': '7', 'boundingBox': {'x': 389, 'y': 167, 'w': 91, 'h': 522}, 'tags': [{'name': 'fork', 'confidence': 0.4208984375}]}, {'id': '8', 'boundingBox': {'x': 127, 'y': 236, 'w': 55, 'h': 450}, 'tags': [{'name': 'fork', 'confidence': 0.35107421875}]}, {'id': '9', 'boundingBox': {'x': 477, 'y': 39, 'w': 223, 'h': 654}, 'tags': [{'name': 'fork', 'confidence': 0.2939453125}]}]\n"
     ]
    }
   ],
   "source": [
    "import requests\n",
    "import gradio as gr\n",
    "from PIL import Image, ImageDraw\n",
    " \n",
    "def request_object_detection(image_path):\n",
    "    endpoint = \"https://fimtrus-computer-vision.cognitiveservices.azure.com/computervision/imageanalysis:analyze?model-name=detectionfork&language=en&gender-neutral-caption=false&api-version=2023-04-01-preview\"\n",
    "    api_key = \"4e650db659a84880ad9bff6b57af6cf2\"\n",
    " \n",
    "    headers = {\n",
    "        \"Content-Type\": \"application/octet-stream\",\n",
    "        \"Ocp-Apim-Subscription-Key\": api_key\n",
    "    }\n",
    " \n",
    "    with open(image_path, \"rb\") as image:\n",
    "        image_data = image.read()\n",
    " \n",
    "    response = requests.post(endpoint,\n",
    "                            headers=headers,\n",
    "                            data=image_data)\n",
    " \n",
    "    if response.status_code == 200:\n",
    "        response_json = response.json()\n",
    "        object_list = response_json[\"customModelResult\"][\"objectsResult\"][\"values\"]\n",
    "        \n",
    "        return object_list\n",
    "    else:\n",
    "        return None\n",
    "    \n",
    "\n",
    "def draw(image_path, object_list):\n",
    "\n",
    "    image = Image.open(image_path)\n",
    "    draw = ImageDraw.Draw(image)\n",
    "\n",
    "    for c in object_list:\n",
    "        bounding_box = c['boundingBox']\n",
    "        if len(c['tags']) > 0:\n",
    "            name = c['tags'][0]['name']\n",
    "            confidence = c['tags'][0]['confidence']\n",
    "        else:\n",
    "            name = ''\n",
    "            confidence = '' \n",
    "\n",
    "        x = bounding_box['x']\n",
    "        y = bounding_box['y']\n",
    "        w = bounding_box['w']\n",
    "        h = bounding_box['h']\n",
    "\n",
    "        start_point = (x,y)\n",
    "        end_point = (x + w, y + h)\n",
    "\n",
    "        import numpy as np\n",
    "\n",
    "        random_colors = tuple(np.random.randint(0, 255, 3))\n",
    "\n",
    "\n",
    "        draw.rectangle([start_point, end_point], outline=random_colors, width = 2)\n",
    "        draw.text((x + 5, y + 5), \"{}({:.2f}%)\".format(name, confidence * 100))\n",
    "    \n",
    "\n",
    "        # print(\"Detect Object\" , name, confidence, x, y, w, h)\n",
    "    return image\n",
    "\n",
    "    \n",
    " \n",
    " \n",
    "def change_input_image(input_image):\n",
    "    object_list = request_object_detection(input_image)\n",
    "    draw_image = draw(input_image, object_list)\n",
    "    print(object_list)\n",
    "    return draw_image\n",
    " \n",
    " \n",
    "with gr.Blocks() as demo:\n",
    "    input_image = gr.Image(label=\"이미지 선택\", type=\"filepath\")\n",
    "    result_image = gr.Image(label=\"결과 이미지\")\n",
    "    \n",
    "    input_image.change(fn=change_input_image, inputs=[input_image], outputs=[result_image])\n",
    "    \n",
    "demo.launch()\n",
    " \n",
    " \n",
    "# file_path = \"./fork_2.jpg\"\n",
    " \n",
    "# request_object_detection(file_path)\n",
    " \n",
    " "
   ]
  }
 ],
 "metadata": {
  "kernelspec": {
   "display_name": "Python 3",
   "language": "python",
   "name": "python3"
  },
  "language_info": {
   "codemirror_mode": {
    "name": "ipython",
    "version": 3
   },
   "file_extension": ".py",
   "mimetype": "text/x-python",
   "name": "python",
   "nbconvert_exporter": "python",
   "pygments_lexer": "ipython3",
   "version": "3.11.9"
  }
 },
 "nbformat": 4,
 "nbformat_minor": 2
}
