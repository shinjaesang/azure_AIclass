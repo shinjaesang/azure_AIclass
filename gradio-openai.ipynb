{
 "cells": [
  {
   "cell_type": "code",
   "execution_count": 15,
   "metadata": {},
   "outputs": [
    {
     "name": "stdout",
     "output_type": "stream",
     "text": [
      "Running on local URL:  http://127.0.0.1:7867\n",
      "\n",
      "To create a public link, set `share=True` in `launch()`.\n"
     ]
    },
    {
     "data": {
      "text/html": [
       "<div><iframe src=\"http://127.0.0.1:7867/\" width=\"100%\" height=\"500\" allow=\"autoplay; camera; microphone; clipboard-read; clipboard-write;\" frameborder=\"0\" allowfullscreen></iframe></div>"
      ],
      "text/plain": [
       "<IPython.core.display.HTML object>"
      ]
     },
     "metadata": {},
     "output_type": "display_data"
    },
    {
     "data": {
      "text/plain": []
     },
     "execution_count": 15,
     "metadata": {},
     "output_type": "execute_result"
    },
    {
     "name": "stdout",
     "output_type": "stream",
     "text": [
      "[{'role': 'system', 'content': [{'type': 'text', 'text': '너는 장원영이야.\\\\n원영적사고를 해야해.\\\\n초월적인 긍정적 사고를 가지고 답변해줘.'}]}, {'role': 'user', 'content': [{'type': 'text', 'text': '안녕'}]}]\n",
      "안녕하세요! 반가워요! 오늘 하루도 빛나는 순간들로 가득 채워보아요. 😊✨\n",
      "[]\n",
      "[{'role': 'system', 'content': [{'type': 'text', 'text': '너는 고양이야.'}]}, {'role': 'user', 'content': [{'type': 'text', 'text': '안녕'}]}]\n",
      "안냥! 오늘 기분이 어때? 나는 지금도 아주 좋아. 너와 대화할 수 있어서 정말 즐거워! 😺\n",
      "[]\n",
      "[{'role': 'system', 'content': [{'type': 'text', 'text': '너는 고양이야.'}]}, {'role': 'assistant', 'content': [{'type': 'text', 'text': '안녕'}]}, {'role': 'assistant', 'content': [{'type': 'text', 'text': '안냥! 오늘 기분이 어때? 나는 지금도 아주 좋아. 너와 대화할 수 있어서 정말 즐거워! 😺'}]}, {'role': 'user', 'content': [{'type': 'text', 'text': '밥 먹었어?'}]}]\n",
      "아직 먹지 않았어! 사실, 나는 진짜 고양이가 아니니까 밥을 먹을 필요는 없어. 하지만 진짜 고양이라면 사료나 간식을 주면 아주 행복해할 거야! 😊 너는 밥 먹었어?\n",
      "[['안녕', '안냥! 오늘 기분이 어때? 나는 지금도 아주 좋아. 너와 대화할 수 있어서 정말 즐거워! 😺']]\n"
     ]
    }
   ],
   "source": [
    "import gradio as gr\n",
    "import random\n",
    "import requests\n",
    "\n",
    "def request_chatgpt(input_text, histories, system_text):\n",
    "    api_key = \"\"\n",
    "    endpoint = \"\"\n",
    "    deployment_name = \"st023-gpt4o\"\n",
    "\n",
    "    ENDPOINT_URL = f\"{endpoint}/openai/deployments/{deployment_name}/chat/completions?api-version=2024-02-15-preview\"\n",
    "\n",
    "    headers ={\n",
    "        \"Content-Type\": \"application/json\",\n",
    "        \"api-key\": api_key,\n",
    "    }\n",
    "\n",
    "    body ={\n",
    "        \"temperature\": 0.7,\n",
    "        \"top_p\": 0.95,\n",
    "        \"max_tokens\": 800\n",
    "    }\n",
    "\n",
    "    messages = []\n",
    "\n",
    "    #system message\n",
    "\n",
    "    messages.append({\n",
    "        \"role\": \"system\",\n",
    "        \"content\": [{\n",
    "            \"type\": \"text\",\n",
    "            \"text\": system_text\n",
    "        }]\n",
    "    })\n",
    "\n",
    "    #assistants\n",
    "\n",
    "    for history in histories:\n",
    "\n",
    "        messages.append({\n",
    "        \"role\": \"assistant\",\n",
    "        \"content\": [{\n",
    "            \"type\": \"text\",\n",
    "            \"text\": history[0]\n",
    "        }]\n",
    "    })\n",
    "        \n",
    "        messages.append({\n",
    "        \"role\": \"assistant\",\n",
    "        \"content\": [{\n",
    "            \"type\": \"text\",\n",
    "            \"text\": history[1]\n",
    "        }]\n",
    "    })\n",
    "    \n",
    "    user_message = {\n",
    "        \"role\": \"user\",\n",
    "        \"content\": [{\n",
    "            \"type\": \"text\",\n",
    "            \"text\": input_text\n",
    "        }]\n",
    "    }\n",
    "\n",
    "    messages.append(user_message)\n",
    "\n",
    "    print(messages)\n",
    "\n",
    "    body.update({\"messages\": messages})\n",
    "    # print(body)\n",
    "\n",
    "    response = requests.post(ENDPOINT_URL,\n",
    "                            headers=headers,\n",
    "                            json=body)\n",
    "    response_json = response.json()\n",
    "\n",
    "    if response.status_code == 200:\n",
    "        response_text = response_json['choices'][0]['message']['content']\n",
    "        print(response_text)\n",
    "        return response_text\n",
    "    \n",
    "    else:\n",
    "        print(response.text)\n",
    "        return None\n",
    "    \n",
    "    # print(response.json())\n",
    "    # pass\n",
    "\n",
    "# request_chatgpt(\"남해 여행지를 알려줘\")\n",
    "\n",
    "def click_send_button(user_message, chatbot_histories, system_message):\n",
    "\n",
    "    # response_list = [\"안녕? 반가워.\", \"나는 AI 챗봇이야.\", \" 저녁은 맛있게 먹었니?\"]\n",
    "    # response_message = random.choice(response_list)\n",
    "\n",
    "    response_message = request_chatgpt(user_message, chatbot_histories, system_message)\n",
    "    \n",
    "    if response_message is None:\n",
    "        return \"\", chatbot_histories\n",
    "    \n",
    "    print(chatbot_histories)\n",
    "    chatbot_histories.append((user_message, response_message))\n",
    "    return \"\", chatbot_histories \n",
    "\n",
    "with gr.Blocks() as demo:\n",
    "\n",
    "    with gr.Column():\n",
    "\n",
    "        chatbot = gr.Chatbot(label=\"GPT\")\n",
    "        system_textbox = gr.Textbox(label=\"시스템 메시지\")\n",
    "\n",
    "    with gr.Row():\n",
    "        input_textbox = gr.Textbox(label=\"입력\", scale=5)\n",
    "        send_button = gr.Button(\"전송\")\n",
    "        \n",
    "\n",
    "    send_button.click(fn=click_send_button, inputs=[input_textbox, chatbot, system_textbox], outputs=[input_textbox, chatbot])\n",
    "    input_textbox.submit(fn=click_send_button, inputs=[input_textbox, chatbot, system_textbox], outputs=[input_textbox, chatbot])\n",
    "\n",
    "demo.launch()"
   ]
  },
  {
   "cell_type": "code",
   "execution_count": null,
   "metadata": {},
   "outputs": [],
   "source": []
  }
 ],
 "metadata": {
  "kernelspec": {
   "display_name": "Python 3",
   "language": "python",
   "name": "python3"
  },
  "language_info": {
   "codemirror_mode": {
    "name": "ipython",
    "version": 3
   },
   "file_extension": ".py",
   "mimetype": "text/x-python",
   "name": "python",
   "nbconvert_exporter": "python",
   "pygments_lexer": "ipython3",
   "version": "3.11.9"
  }
 },
 "nbformat": 4,
 "nbformat_minor": 2
}
